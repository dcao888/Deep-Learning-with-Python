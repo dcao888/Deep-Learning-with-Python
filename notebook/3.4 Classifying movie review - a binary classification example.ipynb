{
 "cells": [
  {
   "cell_type": "code",
   "execution_count": 34,
   "metadata": {},
   "outputs": [],
   "source": [
    "import numpy as np\n",
    "from keras.datasets import imdb\n",
    "from keras import models\n",
    "from keras import layers\n",
    "from keras import optimizers\n",
    "from keras import losses\n",
    "from keras import metrics\n",
    "import matplotlib.pyplot as plt"
   ]
  },
  {
   "cell_type": "code",
   "execution_count": 58,
   "metadata": {},
   "outputs": [
    {
     "name": "stdout",
     "output_type": "stream",
     "text": [
      "? this film was just brilliant casting location scenery story direction everyone's really suited the\n"
     ]
    }
   ],
   "source": [
    "# load data \n",
    "(train_data, train_labels), (test_data, test_labels) = imdb.load_data(num_words=10000)\n",
    "\n",
    "# check out a review instance \n",
    "word_index         = imdb.get_word_index()\n",
    "reverse_word_index = dict([(value, key) for (key, value) in word_index.items()])\n",
    "decoded_review     = ' '.join([reverse_word_index.get(i - 3, '?') for i in train_data[0]])\n",
    "\n",
    "print(decoded_review[:100])"
   ]
  },
  {
   "cell_type": "code",
   "execution_count": 27,
   "metadata": {},
   "outputs": [],
   "source": [
    "# One-hot-encode data \n",
    "def vectorize_sequences(sequences, dimension=10000):\n",
    "    results = np.zeros((len(sequences), dimension))\n",
    "    for i, sequence in enumerate(sequences):\n",
    "        results[i, sequence] = 1.\n",
    "    return results\n",
    "\n",
    "x_train = vectorize_sequences(train_data)\n",
    "x_test  = vectorize_sequences(test_data)\n",
    "\n",
    "y_train = np.asarray(train_labels).astype('float32')\n",
    "y_test  = np.asarray(test_labels).astype('float32')"
   ]
  },
  {
   "cell_type": "code",
   "execution_count": 33,
   "metadata": {
    "collapsed": true
   },
   "outputs": [
    {
     "name": "stdout",
     "output_type": "stream",
     "text": [
      "Train on 15000 samples, validate on 10000 samples\n",
      "Epoch 1/20\n",
      "15000/15000 [==============================] - 2s 138us/step - loss: 0.5134 - acc: 0.7861 - val_loss: 0.3921 - val_acc: 0.8610\n",
      "Epoch 2/20\n",
      "15000/15000 [==============================] - 2s 115us/step - loss: 0.3068 - acc: 0.9040 - val_loss: 0.3198 - val_acc: 0.8780\n",
      "Epoch 3/20\n",
      "15000/15000 [==============================] - 2s 115us/step - loss: 0.2234 - acc: 0.9289 - val_loss: 0.2938 - val_acc: 0.8849\n",
      "Epoch 4/20\n",
      "15000/15000 [==============================] - 2s 114us/step - loss: 0.1747 - acc: 0.9433 - val_loss: 0.2775 - val_acc: 0.8876\n",
      "Epoch 5/20\n",
      "15000/15000 [==============================] - 2s 114us/step - loss: 0.1420 - acc: 0.9539 - val_loss: 0.2851 - val_acc: 0.8858\n",
      "Epoch 6/20\n",
      "15000/15000 [==============================] - 2s 115us/step - loss: 0.1142 - acc: 0.9672 - val_loss: 0.3440 - val_acc: 0.8712\n",
      "Epoch 7/20\n",
      "15000/15000 [==============================] - 2s 114us/step - loss: 0.0955 - acc: 0.9713 - val_loss: 0.3211 - val_acc: 0.8813\n",
      "Epoch 8/20\n",
      "15000/15000 [==============================] - 2s 114us/step - loss: 0.0772 - acc: 0.9786 - val_loss: 0.3488 - val_acc: 0.8745\n",
      "Epoch 9/20\n",
      "15000/15000 [==============================] - 2s 116us/step - loss: 0.0644 - acc: 0.9824 - val_loss: 0.3580 - val_acc: 0.8775\n",
      "Epoch 10/20\n",
      "15000/15000 [==============================] - 2s 114us/step - loss: 0.0525 - acc: 0.9864 - val_loss: 0.3862 - val_acc: 0.8739\n",
      "Epoch 11/20\n",
      "15000/15000 [==============================] - 2s 115us/step - loss: 0.0441 - acc: 0.9903 - val_loss: 0.4092 - val_acc: 0.8743\n",
      "Epoch 12/20\n",
      "15000/15000 [==============================] - 2s 116us/step - loss: 0.0358 - acc: 0.9913 - val_loss: 0.4758 - val_acc: 0.8657\n",
      "Epoch 13/20\n",
      "15000/15000 [==============================] - 2s 114us/step - loss: 0.0291 - acc: 0.9942 - val_loss: 0.4731 - val_acc: 0.8688\n",
      "Epoch 14/20\n",
      "15000/15000 [==============================] - 2s 114us/step - loss: 0.0222 - acc: 0.9961 - val_loss: 0.5147 - val_acc: 0.8688\n",
      "Epoch 15/20\n",
      "15000/15000 [==============================] - 2s 116us/step - loss: 0.0198 - acc: 0.9957 - val_loss: 0.5263 - val_acc: 0.8707\n",
      "Epoch 16/20\n",
      "15000/15000 [==============================] - 2s 115us/step - loss: 0.0119 - acc: 0.9991 - val_loss: 0.6528 - val_acc: 0.8552\n",
      "Epoch 17/20\n",
      "15000/15000 [==============================] - 2s 114us/step - loss: 0.0088 - acc: 0.9996 - val_loss: 0.7000 - val_acc: 0.8537\n",
      "Epoch 18/20\n",
      "15000/15000 [==============================] - 2s 117us/step - loss: 0.0141 - acc: 0.9973 - val_loss: 0.6344 - val_acc: 0.8653\n",
      "Epoch 19/20\n",
      "15000/15000 [==============================] - 2s 114us/step - loss: 0.0045 - acc: 0.9999 - val_loss: 0.6529 - val_acc: 0.8657\n",
      "Epoch 20/20\n",
      "15000/15000 [==============================] - 2s 114us/step - loss: 0.0100 - acc: 0.9973 - val_loss: 0.6925 - val_acc: 0.8665\n"
     ]
    }
   ],
   "source": [
    "# network architecture \n",
    "model = models.Sequential()\n",
    "model.add(layers.Dense(16, activation='relu', input_shape=(10000,)))\n",
    "model.add(layers.Dense(16, activation='relu'))\n",
    "model.add(layers.Dense(1, activation='sigmoid'))\n",
    "\n",
    "# # add optimizer, loss fn, metrics \n",
    "# model.compile(optimizer = optimizers.RMSprop(lr=0.001),\n",
    "#               loss = losses.binary_crossentropy,\n",
    "#               metrics = [metrics.binary_accuracy])\n",
    "\n",
    "# validation data \n",
    "x_val = x_train[:10000]\n",
    "y_val = y_train[:10000]\n",
    "\n",
    "partial_x_train = x_train[10000:]\n",
    "partial_y_train = y_train[10000:]\n",
    "\n",
    "# add optimizer, loss fn, metrics \n",
    "model.compile(optimizer = 'rmsprop',\n",
    "              loss = 'binary_crossentropy',\n",
    "              metrics = ['acc'])\n",
    "\n",
    "# model fit \n",
    "history = model.fit(partial_x_train,\n",
    "                    partial_y_train,\n",
    "                    epochs = 20,\n",
    "                    batch_size = 512,\n",
    "                    validation_data = (x_val, y_val))"
   ]
  },
  {
   "cell_type": "code",
   "execution_count": 51,
   "metadata": {
    "scrolled": true
   },
   "outputs": [
    {
     "data": {
      "image/png": "[encoded data removed]",
      "text/plain": [
       "<matplotlib.figure.Figure at 0x24fc956c320>"
      ]
     },
     "metadata": {},
     "output_type": "display_data"
    }
   ],
   "source": [
    "# plot lost (cross-entropy) \n",
    "history_dict    = history.history\n",
    "loss_values     = history_dict['loss'] \n",
    "acc             = history_dict['acc']\n",
    "epochs          = range(1, len(acc) + 1)\n",
    "\n",
    "plt.plot(epochs, loss_values, 'ro', label='Training loss')\n",
    "plt.plot(epochs, val_loss_values, 'g', label='Validation loss')\n",
    "plt.title('Training and validation loss')\n",
    "plt.xlabel('Epochs')\n",
    "plt.ylabel('Loss')\n",
    "plt.legend()\n",
    "plt.show()\n",
    "\n",
    "# NOTE: OOS performance deteriorates after ~ 4 epochs "
   ]
  },
  {
   "cell_type": "code",
   "execution_count": 53,
   "metadata": {},
   "outputs": [
    {
     "data": {
      "image/png": "[encoded data removed]",
      "text/plain": [
       "<matplotlib.figure.Figure at 0x24fc956cb38>"
      ]
     },
     "metadata": {},
     "output_type": "display_data"
    }
   ],
   "source": [
    "# plot accuracy \n",
    "acc_values     = history_dict['acc']\n",
    "val_acc_values = history_dict['val_acc']\n",
    "\n",
    "plt.plot(epochs, acc_values, 'ro', label='Training acc')\n",
    "plt.plot(epochs, val_acc_values, 'g', label='Validation acc')\n",
    "plt.title('Training and validation accuracy')\n",
    "plt.xlabel('Epochs')\n",
    "plt.ylabel('Loss')\n",
    "plt.legend()\n",
    "plt.show()\n",
    "\n",
    "# NOTE: OOS performance deteriorates after ~ 4 epochs "
   ]
  },
  {
   "cell_type": "code",
   "execution_count": 54,
   "metadata": {},
   "outputs": [
    {
     "name": "stdout",
     "output_type": "stream",
     "text": [
      "Epoch 1/4\n",
      "25000/25000 [==============================] - 2s 80us/step - loss: 0.4595 - accuracy: 0.8275\n",
      "Epoch 2/4\n",
      "25000/25000 [==============================] - 2s 72us/step - loss: 0.2704 - accuracy: 0.9089\n",
      "Epoch 3/4\n",
      "25000/25000 [==============================] - 2s 73us/step - loss: 0.2090 - accuracy: 0.9244\n",
      "Epoch 4/4\n",
      "25000/25000 [==============================] - 2s 72us/step - loss: 0.1757 - accuracy: 0.9379\n",
      "25000/25000 [==============================] - 2s 94us/step\n"
     ]
    }
   ],
   "source": [
    "# retrain from scratch (truncate at 4 epochs)\n",
    "model = models.Sequential()\n",
    "model.add(layers.Dense(16, activation='relu', input_shape=(10000,)))\n",
    "model.add(layers.Dense(16, activation='relu'))\n",
    "model.add(layers.Dense(1, activation='sigmoid'))\n",
    "\n",
    "model.compile(optimizer = 'rmsprop',\n",
    "              loss = 'binary_crossentropy',\n",
    "              metrics = ['accuracy'])\n",
    "\n",
    "model.fit(x_train, y_train, epochs=4, batch_size=512)\n",
    "results = model.evaluate(x_test, y_test)"
   ]
  },
  {
   "cell_type": "code",
   "execution_count": 59,
   "metadata": {},
   "outputs": [
    {
     "data": {
      "text/plain": [
       "[0.28729524625778197, 0.8842800259590149]"
      ]
     },
     "execution_count": 59,
     "metadata": {},
     "output_type": "execute_result"
    }
   ],
   "source": [
    "results #(val_loss, val_acc)"
   ]
  },
  {
   "cell_type": "code",
   "execution_count": 63,
   "metadata": {},
   "outputs": [
    {
     "data": {
      "image/png": "[encoded data removed]",
      "text/plain": [
       "<matplotlib.figure.Figure at 0x24fda7b1630>"
      ]
     },
     "metadata": {},
     "output_type": "display_data"
    }
   ],
   "source": [
    "# see pred distro\n",
    "preds = model.predict(x_train)\n",
    "plt.hist(preds)\n",
    "plt.title(\"Prediction Distribution\")\n",
    "plt.xlabel(\"Prediction Probability\")\n",
    "plt.ylabel(\"Count\")\n",
    "plt.show()\n",
    "\n",
    "# NOTE: this is a good distro since heavy tailed"
   ]
  },
  {
   "cell_type": "code",
   "execution_count": null,
   "metadata": {},
   "outputs": [],
   "source": []
  }
 ],
 "metadata": {
  "kernelspec": {
   "display_name": "Python 3",
   "language": "python",
   "name": "python3"
  },
  "language_info": {
   "codemirror_mode": {
    "name": "ipython",
    "version": 3
   },
   "file_extension": ".py",
   "mimetype": "text/x-python",
   "name": "python",
   "nbconvert_exporter": "python",
   "pygments_lexer": "ipython3",
   "version": "3.6.4"
  }
 },
 "nbformat": 4,
 "nbformat_minor": 2
}
