{
 "cells": [
  {
   "cell_type": "code",
   "execution_count": 26,
   "metadata": {},
   "outputs": [],
   "source": [
    "import numpy as np\n",
    "from keras.datasets import reuters\n",
    "from keras import models\n",
    "from keras import layers\n",
    "from keras import optimizers\n",
    "from keras import losses\n",
    "from keras import metrics\n",
    "import matplotlib.pyplot as plt\n",
    "from keras.utils.np_utils import to_categorical"
   ]
  },
  {
   "cell_type": "code",
   "execution_count": 12,
   "metadata": {},
   "outputs": [
    {
     "name": "stdout",
     "output_type": "stream",
     "text": [
      "? ? ? said as a result of its december acquisition of space co it expects earnings per share in 1987\n"
     ]
    }
   ],
   "source": [
    "# load data \n",
    "(train_data, train_labels), (test_data, test_labels) = reuters.load_data(num_words=10000)\n",
    "\n",
    "word_index         = reuters.get_word_index()\n",
    "reverse_word_index = dict([(value, key) for (key, value) in word_index.items()])\n",
    "decoded_newswire   = ' '.join([reverse_word_index.get(i - 3, '?') for i in train_data[0]])\n",
    "\n",
    "print(decoded_newswire[:100])"
   ]
  },
  {
   "cell_type": "code",
   "execution_count": 27,
   "metadata": {},
   "outputs": [],
   "source": [
    "# vectorize\n",
    "def vectorize_sequences(sequences, dimension=10000):\n",
    "    results = np.zeros((len(sequences), dimension))\n",
    "    for i, sequence in enumerate(sequences):\n",
    "        results[i, sequence] = 1.\n",
    "    return results\n",
    "\n",
    "# One-hot-encode data \n",
    "def to_one_hot(labels, dimension=46):\n",
    "    results = np.zeros((len(labels), dimension))\n",
    "    for i, label in enumerate(labels):\n",
    "        results[i, label] = 1.\n",
    "    return results\n",
    "\n",
    "x_train = vectorize_sequences(train_data)\n",
    "x_test  = vectorize_sequences(test_data)\n",
    "\n",
    "one_hot_train_labels = to_one_hot(train_labels)\n",
    "one_hot_test_labels  = to_one_hot(test_labels)\n",
    "\n",
    "one_hot_train_labels = to_categorical(train_labels)\n",
    "one_hot_test_labels  = to_categorical(test_labels)\n",
    "\n",
    "y_train = np.asarray(train_labels).astype('float32')\n",
    "y_test  = np.asarray(test_labels).astype('float32')"
   ]
  },
  {
   "cell_type": "code",
   "execution_count": 55,
   "metadata": {
    "collapsed": true
   },
   "outputs": [
    {
     "name": "stdout",
     "output_type": "stream",
     "text": [
      "Train on 7982 samples, validate on 1000 samples\n",
      "Epoch 1/20\n",
      "7982/7982 [==============================] - 1s 186us/step - loss: 2.2051 - accuracy: 0.5208 - val_loss: 1.4178 - val_accuracy: 0.6720\n",
      "Epoch 2/20\n",
      "7982/7982 [==============================] - 1s 156us/step - loss: 1.1414 - accuracy: 0.7484 - val_loss: 1.1169 - val_accuracy: 0.7530\n",
      "Epoch 3/20\n",
      "7982/7982 [==============================] - 1s 158us/step - loss: 0.8079 - accuracy: 0.8226 - val_loss: 0.9832 - val_accuracy: 0.7750\n",
      "Epoch 4/20\n",
      "7982/7982 [==============================] - 1s 156us/step - loss: 0.5860 - accuracy: 0.8741 - val_loss: 0.9368 - val_accuracy: 0.7850\n",
      "Epoch 5/20\n",
      "7982/7982 [==============================] - 1s 158us/step - loss: 0.4228 - accuracy: 0.9110 - val_loss: 0.8814 - val_accuracy: 0.8160\n",
      "Epoch 6/20\n",
      "7982/7982 [==============================] - 1s 157us/step - loss: 0.3263 - accuracy: 0.9283 - val_loss: 0.8970 - val_accuracy: 0.8000\n",
      "Epoch 7/20\n",
      "7982/7982 [==============================] - 1s 156us/step - loss: 0.2490 - accuracy: 0.9436 - val_loss: 0.8716 - val_accuracy: 0.8170\n",
      "Epoch 8/20\n",
      "7982/7982 [==============================] - 1s 157us/step - loss: 0.2054 - accuracy: 0.9495 - val_loss: 0.9026 - val_accuracy: 0.8160\n",
      "Epoch 9/20\n",
      "7982/7982 [==============================] - 1s 157us/step - loss: 0.1800 - accuracy: 0.9525 - val_loss: 0.9820 - val_accuracy: 0.8040\n",
      "Epoch 10/20\n",
      "7982/7982 [==============================] - 1s 158us/step - loss: 0.1576 - accuracy: 0.9548 - val_loss: 1.0581 - val_accuracy: 0.7900\n",
      "Epoch 11/20\n",
      "7982/7982 [==============================] - 1s 157us/step - loss: 0.1483 - accuracy: 0.9548 - val_loss: 0.9954 - val_accuracy: 0.8100\n",
      "Epoch 12/20\n",
      "7982/7982 [==============================] - 1s 158us/step - loss: 0.1338 - accuracy: 0.9546 - val_loss: 1.0405 - val_accuracy: 0.7970\n",
      "Epoch 13/20\n",
      "7982/7982 [==============================] - 1s 158us/step - loss: 0.1271 - accuracy: 0.9550 - val_loss: 1.0773 - val_accuracy: 0.8020\n",
      "Epoch 14/20\n",
      "7982/7982 [==============================] - 1s 156us/step - loss: 0.1234 - accuracy: 0.9577 - val_loss: 1.1082 - val_accuracy: 0.7890\n",
      "Epoch 15/20\n",
      "7982/7982 [==============================] - 1s 161us/step - loss: 0.1210 - accuracy: 0.9563 - val_loss: 1.0337 - val_accuracy: 0.8030\n",
      "Epoch 16/20\n",
      "7982/7982 [==============================] - 1s 156us/step - loss: 0.1132 - accuracy: 0.9558 - val_loss: 1.0594 - val_accuracy: 0.8010\n",
      "Epoch 17/20\n",
      "7982/7982 [==============================] - 1s 157us/step - loss: 0.1132 - accuracy: 0.9567 - val_loss: 1.0165 - val_accuracy: 0.8150\n",
      "Epoch 18/20\n",
      "7982/7982 [==============================] - 1s 157us/step - loss: 0.1062 - accuracy: 0.9570 - val_loss: 1.1296 - val_accuracy: 0.7860\n",
      "Epoch 19/20\n",
      "7982/7982 [==============================] - 1s 158us/step - loss: 0.1072 - accuracy: 0.9562 - val_loss: 1.0499 - val_accuracy: 0.8030\n",
      "Epoch 20/20\n",
      "7982/7982 [==============================] - 1s 157us/step - loss: 0.1013 - accuracy: 0.9587 - val_loss: 1.0631 - val_accuracy: 0.8060\n"
     ]
    }
   ],
   "source": [
    "# network architecture \n",
    "model = models.Sequential()\n",
    "model.add(layers.Dense(128, activation='relu', input_shape=(10000,)))\n",
    "model.add(layers.Dense(128, activation='relu'))\n",
    "model.add(layers.Dense(46, activation='softmax'))\n",
    "\n",
    "# # add optimizer, loss fn, metrics \n",
    "model.compile(optimizer='rmsprop',\n",
    "              loss='categorical_crossentropy',\n",
    "              metrics=['accuracy'])\n",
    "\n",
    "# validation data \n",
    "x_val = x_train[:1000]\n",
    "partial_x_train = x_train[1000:]\n",
    "\n",
    "y_val = one_hot_train_labels[:1000]\n",
    "partial_y_train = one_hot_train_labels[1000:]\n",
    "\n",
    "# model fit \n",
    "history = model.fit(partial_x_train,\n",
    "                    partial_y_train,\n",
    "                    epochs=20,\n",
    "                    batch_size=512,\n",
    "                    validation_data=(x_val, y_val))"
   ]
  },
  {
   "cell_type": "code",
   "execution_count": 56,
   "metadata": {},
   "outputs": [
    {
     "data": {
      "image/png": "[encoded data removed]",
      "text/plain": [
       "<matplotlib.figure.Figure at 0x20b53acf630>"
      ]
     },
     "metadata": {},
     "output_type": "display_data"
    }
   ],
   "source": [
    "# plot lost (cross-entropy) \n",
    "history_dict    = history.history\n",
    "loss_values     = history_dict['loss'] \n",
    "val_loss_values = history_dict['val_loss']\n",
    "acc             = history_dict['accuracy']\n",
    "epochs          = range(1, len(acc) + 1)\n",
    "\n",
    "plt.plot(epochs, loss_values, 'ro', label='Training loss')\n",
    "plt.plot(epochs, val_loss_values, 'g', label='Validation loss')\n",
    "plt.title('Training and validation loss')\n",
    "plt.xlabel('Epochs')\n",
    "plt.ylabel('Loss')\n",
    "plt.legend()\n",
    "plt.show()\n",
    "\n",
    "# NOTE: OOS performance deteriorates after ~ 4 epochs "
   ]
  },
  {
   "cell_type": "code",
   "execution_count": 32,
   "metadata": {},
   "outputs": [
    {
     "data": {
      "image/png": "[encoded data removed]",
      "text/plain": [
       "<matplotlib.figure.Figure at 0x20b57d9e550>"
      ]
     },
     "metadata": {},
     "output_type": "display_data"
    }
   ],
   "source": [
    "# plot lost (cross-entropy) \n",
    "history_dict    = history.history\n",
    "loss_values     = history_dict['loss'] \n",
    "val_loss_values = history_dict['val_loss']\n",
    "acc             = history_dict['accuracy']\n",
    "epochs          = range(1, len(acc) + 1)\n",
    "\n",
    "plt.plot(epochs, loss_values, 'ro', label='Training loss')\n",
    "plt.plot(epochs, val_loss_values, 'g', label='Validation loss')\n",
    "plt.title('Training and validation loss')\n",
    "plt.xlabel('Epochs')\n",
    "plt.ylabel('Loss')\n",
    "plt.legend()\n",
    "plt.show()\n",
    "\n",
    "# NOTE: OOS performance deteriorates after ~ 4 epochs "
   ]
  },
  {
   "cell_type": "code",
   "execution_count": 33,
   "metadata": {},
   "outputs": [
    {
     "data": {
      "image/png": "[encoded data removed]",
      "text/plain": [
       "<matplotlib.figure.Figure at 0x20b5568f128>"
      ]
     },
     "metadata": {},
     "output_type": "display_data"
    }
   ],
   "source": [
    "# plot accuracy \n",
    "acc_values     = history_dict['accuracy']\n",
    "val_acc_values = history_dict['val_accuracy']\n",
    "\n",
    "plt.plot(epochs, acc_values, 'ro', label='Training acc')\n",
    "plt.plot(epochs, val_acc_values, 'g', label='Validation acc')\n",
    "plt.title('Training and validation accuracy')\n",
    "plt.xlabel('Epochs')\n",
    "plt.ylabel('Loss')\n",
    "plt.legend()\n",
    "plt.show()\n",
    "\n",
    "# NOTE: OOS performance deteriorates after ~ 4 epochs "
   ]
  },
  {
   "cell_type": "code",
   "execution_count": 34,
   "metadata": {},
   "outputs": [
    {
     "name": "stdout",
     "output_type": "stream",
     "text": [
      "Train on 7982 samples, validate on 1000 samples\n",
      "Epoch 1/9\n",
      "7982/7982 [==============================] - 1s 156us/step - loss: 2.5523 - accuracy: 0.5224 - val_loss: 1.6771 - val_accuracy: 0.6500\n",
      "Epoch 2/9\n",
      "7982/7982 [==============================] - 1s 137us/step - loss: 1.3584 - accuracy: 0.7154 - val_loss: 1.2679 - val_accuracy: 0.7340\n",
      "Epoch 3/9\n",
      "7982/7982 [==============================] - 1s 137us/step - loss: 1.0093 - accuracy: 0.7894 - val_loss: 1.1361 - val_accuracy: 0.7590\n",
      "Epoch 4/9\n",
      "7982/7982 [==============================] - 1s 139us/step - loss: 0.7919 - accuracy: 0.8338 - val_loss: 1.0578 - val_accuracy: 0.7720\n",
      "Epoch 5/9\n",
      "7982/7982 [==============================] - 1s 135us/step - loss: 0.6320 - accuracy: 0.8685 - val_loss: 0.9599 - val_accuracy: 0.8060\n",
      "Epoch 6/9\n",
      "7982/7982 [==============================] - 1s 138us/step - loss: 0.5085 - accuracy: 0.8949 - val_loss: 0.9116 - val_accuracy: 0.8050\n",
      "Epoch 7/9\n",
      "7982/7982 [==============================] - 1s 136us/step - loss: 0.4092 - accuracy: 0.9128 - val_loss: 0.9329 - val_accuracy: 0.8110\n",
      "Epoch 8/9\n",
      "7982/7982 [==============================] - 1s 138us/step - loss: 0.3322 - accuracy: 0.9302 - val_loss: 0.9011 - val_accuracy: 0.8150\n",
      "Epoch 9/9\n",
      "7982/7982 [==============================] - 1s 136us/step - loss: 0.2788 - accuracy: 0.9391 - val_loss: 0.9003 - val_accuracy: 0.8100\n",
      "2246/2246 [==============================] - 0s 158us/step\n"
     ]
    }
   ],
   "source": [
    "# retrain from scratch (truncate at 9 epochs)\n",
    "model = models.Sequential()\n",
    "model.add(layers.Dense(64, activation='relu', input_shape=(10000,)))\n",
    "model.add(layers.Dense(64, activation='relu'))\n",
    "model.add(layers.Dense(46, activation='softmax'))\n",
    "\n",
    "model.compile(optimizer='rmsprop',\n",
    "              loss='categorical_crossentropy',\n",
    "              metrics=['accuracy'])\n",
    "\n",
    "model.fit(partial_x_train,\n",
    "          partial_y_train,\n",
    "          epochs=9,\n",
    "          batch_size=512,\n",
    "          validation_data=(x_val, y_val))\n",
    "\n",
    "results = model.evaluate(x_test, one_hot_test_labels)"
   ]
  },
  {
   "cell_type": "code",
   "execution_count": 35,
   "metadata": {},
   "outputs": [
    {
     "data": {
      "text/plain": [
       "[1.014305596041658, 0.777827262878418]"
      ]
     },
     "execution_count": 35,
     "metadata": {},
     "output_type": "execute_result"
    }
   ],
   "source": [
    "results #(val_loss, val_acc)"
   ]
  }
 ],
 "metadata": {
  "kernelspec": {
   "display_name": "Python 3",
   "language": "python",
   "name": "python3"
  },
  "language_info": {
   "codemirror_mode": {
    "name": "ipython",
    "version": 3
   },
   "file_extension": ".py",
   "mimetype": "text/x-python",
   "name": "python",
   "nbconvert_exporter": "python",
   "pygments_lexer": "ipython3",
   "version": "3.6.4"
  }
 },
 "nbformat": 4,
 "nbformat_minor": 2
}
